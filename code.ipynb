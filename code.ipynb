{
 "cells": [
  {
   "cell_type": "code",
   "execution_count": 1,
   "metadata": {},
   "outputs": [
    {
     "data": {
      "text/plain": [
       "True"
      ]
     },
     "execution_count": 1,
     "metadata": {},
     "output_type": "execute_result"
    }
   ],
   "source": [
    "from dotenv import load_dotenv\n",
    "\n",
    "load_dotenv()"
   ]
  },
  {
   "cell_type": "code",
   "execution_count": 2,
   "metadata": {},
   "outputs": [],
   "source": [
    "import os\n",
    "import subprocess\n",
    "import time\n",
    "import datetime\n",
    "import re\n",
    "from typing import Annotated, TypedDict, Sequence, List, Union\n",
    "from pydantic import BaseModel, Field\n",
    "from langchain_core.messages import BaseMessage, HumanMessage, AIMessage\n",
    "from langchain_core.prompts import ChatPromptTemplate\n",
    "from langchain_openai import ChatOpenAI\n",
    "from langgraph.graph import StateGraph, END\n",
    "from langgraph.graph.message import add_messages"
   ]
  },
  {
   "cell_type": "code",
   "execution_count": 3,
   "metadata": {},
   "outputs": [],
   "source": [
    "class AgentState(TypedDict):\n",
    "    messages: Annotated[Sequence[BaseMessage], add_messages]\n",
    "    extracted_time: str\n",
    "    script_name: str\n",
    "    script_args: List[str]\n",
    "    schtasks_command: str\n",
    "    result: str"
   ]
  },
  {
   "cell_type": "code",
   "execution_count": 4,
   "metadata": {},
   "outputs": [],
   "source": [
    "llm = ChatOpenAI(model=\"gpt-4o-mini\")\n",
    "\n",
    "class ScriptChoice(BaseModel):\n",
    "    script_name: str = Field(description=\"Which script does the user want?\")\n",
    "    script_args: List[str] = Field(default_factory=list, description=\"List of arguments.\")\n",
    "\n",
    "def parse_and_format_date(iso_string: str) -> Union[str, str]:\n",
    "    if iso_string.lower() == \"no time found.\" or not iso_string.strip():\n",
    "        dt = datetime.datetime.now() + datetime.timedelta(minutes=1)\n",
    "    else:\n",
    "        cleaned = re.sub(r\"\\s+[A-Z]{2,4}$\", \"\", iso_string.strip())\n",
    "        try:\n",
    "            dt = datetime.datetime.strptime(cleaned, \"%Y-%m-%d %H:%M\")\n",
    "        except ValueError:\n",
    "            dt = datetime.datetime.now() + datetime.timedelta(minutes=1)\n",
    "    date_str = dt.strftime(\"%d.%m.%Y\")\n",
    "    time_str = dt.strftime(\"%H:%M\")\n",
    "    return date_str, time_str"
   ]
  },
  {
   "cell_type": "code",
   "execution_count": 5,
   "metadata": {},
   "outputs": [],
   "source": [
    "def time_extractor(state: AgentState) -> AgentState:\n",
    "    print(\"[DEBUG] Entering time_extractor node...\")\n",
    "    start_time = time.time()\n",
    "    user_message = state[\"messages\"][-1].content\n",
    "    now_berlin = datetime.datetime.now(datetime.timezone(datetime.timedelta(hours=1))).strftime(\"%Y-%m-%d %H:%M:%S %Z\")\n",
    "    system_prompt = (\n",
    "        \"You are a time extractor who also knows the current time in Berlin.\\n\"\n",
    "        f\"Current Berlin time is: {now_berlin}.\\n\\n\"\n",
    "        \"Your job:\\n\"\n",
    "        \"1) Read the user's text for a date/time mention (like \\\"tomorrow in 2 minutes\\\").\\n\"\n",
    "        \"2) Attempt to interpret that date/time with respect to the current Berlin time you have.\\n\"\n",
    "        \"3) Return the exact final date/time in a short, standardized form (e.g. \\\"2025-01-18 10:32 CET\\\").\\n\"\n",
    "        \"If the user is ambiguous, do your best guess. If no time is mentioned, say: 'No time found.'\"\n",
    "    )\n",
    "    prompt = ChatPromptTemplate.from_messages([(\"system\", system_prompt), (\"human\", \"{text}\")])\n",
    "    chain = prompt | llm\n",
    "    result = chain.invoke({\"text\": user_message})\n",
    "    state[\"extracted_time\"] = result.content.strip()\n",
    "    print(f\"[DEBUG] time_extractor finished. LLM Output: {result.content!r}\")\n",
    "    print(f\"[DEBUG] time_extractor duration: {time.time() - start_time:.2f} seconds\\n\")\n",
    "    return state"
   ]
  },
  {
   "cell_type": "code",
   "execution_count": 6,
   "metadata": {},
   "outputs": [],
   "source": [
    "def script_parser(state: AgentState) -> AgentState:\n",
    "    print(\"[DEBUG] Entering script_parser node...\")\n",
    "    start_time = time.time()\n",
    "    user_message = state[\"messages\"][-1].content\n",
    "    system_prompt = (\n",
    "        \"We have three scripts available:\\n\"\n",
    "        \"1) alert_script\\n\"\n",
    "        \"2) notify_script\\n\"\n",
    "        \"3) report_script\\n\\n\"\n",
    "        \"You can parse any arguments the user might mention (like --verbose, or something else).\\n\"\n",
    "        \"- script_name: must be one of [alert_script, notify_script, report_script].\\n\"\n",
    "        \"- script_args: a list of strings (arguments).\\n\"\n",
    "        \"If the user doesn't mention arguments, use an empty array.\\n\"\n",
    "        \"If the user doesn't mention a specific script, default to \\\"alert_script\\\".\"\n",
    "    )\n",
    "    structured_llm = llm.with_structured_output(ScriptChoice)\n",
    "    prompt = ChatPromptTemplate.from_messages([(\"system\", system_prompt), (\"human\", \"{text}\")])\n",
    "    chain = prompt | structured_llm\n",
    "    result = chain.invoke({\"text\": user_message})\n",
    "    state[\"script_name\"] = result.script_name\n",
    "    state[\"script_args\"] = result.script_args\n",
    "    print(f\"[DEBUG] script_parser finished. Structured LLM Output: {result}\")\n",
    "    print(f\"[DEBUG] script_parser duration: {time.time() - start_time:.2f} seconds\\n\")\n",
    "    return state\n",
    "\n",
    "try:\n",
    "    current_dir = os.path.dirname(os.path.realpath(__file__))\n",
    "except NameError:\n",
    "    current_dir = os.getcwd()\n",
    "\n",
    "scripts_path = os.path.join(current_dir, \"scripts\")"
   ]
  },
  {
   "cell_type": "code",
   "execution_count": 7,
   "metadata": {},
   "outputs": [],
   "source": [
    "def windows_crontab_translator(state: AgentState) -> AgentState:\n",
    "    print(\"[DEBUG] Entering windows_crontab_translator node...\")\n",
    "    start_time = time.time()\n",
    "    time_str = state.get(\"extracted_time\", \"No time found.\")\n",
    "    script_name = state.get(\"script_name\", \"alert_script\")\n",
    "    script_args = state.get(\"script_args\", [])\n",
    "    arg_str = \" \".join(script_args)\n",
    "    system_prompt = (\n",
    "        \"You are a converter for Windows Task Scheduler commands (schtasks).\\n\"\n",
    "        \"Given:\\n\"\n",
    "        \"- A final date/time expression (e.g. \\\"2025-01-18 10:32 CET\\\")\\n\"\n",
    "        \"- A script name (e.g. \\\"alert_script\\\")\\n\"\n",
    "        \"- Additional arguments to pass to that script\\n\\n\"\n",
    "        \"You produce a single-line schtasks command to schedule that script at that date/time,\\n\"\n",
    "        \"including \\\"/f\\\" to force overwrite if the task already exists.\\n\"\n",
    "        \"Only return the command, nothing else.\\n\"\n",
    "        \"Example:\\n\"\n",
    "        'schtasks /create /TN \"alert_script\" /SC once /ST 10:32 /SD 01/18/2025 /TR \"C:\\\\scripts\\\\alert_script.bat --verbose test123\" /f'\n",
    "    )\n",
    "    human_prompt = f\"Date/Time: {time_str}\\nScript: {script_name}\\nArguments: {arg_str}\\n\"\n",
    "    prompt = ChatPromptTemplate.from_messages([(\"system\", system_prompt), (\"human\", \"{text}\")])\n",
    "    chain = prompt | llm\n",
    "    llm_result = chain.invoke({\"text\": human_prompt})\n",
    "    print(f\"[DEBUG] windows_crontab_translator finished. LLM Output: {llm_result.content!r}\")\n",
    "\n",
    "    date_part, time_part = parse_and_format_date(time_str)\n",
    "\n",
    "    timestamp_str = datetime.datetime.now().strftime(\"%Y%m%d_%H%M%S\")\n",
    "    unique_task_name = f\"{script_name}_{timestamp_str}\"\n",
    "\n",
    "    final_cmd = (\n",
    "        f'schtasks /create /TN \"{unique_task_name}\" /SC once '\n",
    "        f'/ST {time_part} /SD {date_part} '\n",
    "        f'/TR \"{os.path.join(scripts_path, script_name + \".bat\")} {arg_str}\" /f'\n",
    "    )\n",
    "    state[\"schtasks_command\"] = final_cmd\n",
    "    print(f\"[DEBUG] Final command after date fix: {final_cmd}\")\n",
    "    print(f\"[DEBUG] windows_crontab_translator duration: {time.time() - start_time:.2f} seconds\\n\")\n",
    "    return state"
   ]
  },
  {
   "cell_type": "code",
   "execution_count": 8,
   "metadata": {},
   "outputs": [],
   "source": [
    "def run_crontab_command(state: AgentState) -> AgentState:\n",
    "    print(\"[DEBUG] Entering run_crontab_command node...\")\n",
    "    start_time = time.time()\n",
    "    cmd = state[\"schtasks_command\"]\n",
    "    print(f\"[DEBUG] Command to be run: {cmd}\")\n",
    "    subprocess.run(cmd, shell=True)\n",
    "    final_text = f\"Scheduled with command: {cmd}\"\n",
    "    state[\"result\"] = final_text\n",
    "    state[\"messages\"] = state[\"messages\"] + [AIMessage(content=final_text)]\n",
    "    print(f\"[DEBUG] run_crontab_command finished. Output: {final_text}\")\n",
    "    print(f\"[DEBUG] run_crontab_command duration: {time.time() - start_time:.2f} seconds\\n\")\n",
    "    return state"
   ]
  },
  {
   "cell_type": "code",
   "execution_count": 9,
   "metadata": {},
   "outputs": [],
   "source": [
    "workflow = StateGraph(AgentState)\n",
    "workflow.add_node(\"time_extractor\", time_extractor)\n",
    "workflow.add_node(\"script_parser\", script_parser)\n",
    "workflow.add_node(\"windows_crontab_translator\", windows_crontab_translator)\n",
    "workflow.add_node(\"run_crontab_command\", run_crontab_command)\n",
    "workflow.add_edge(\"time_extractor\", \"script_parser\")\n",
    "workflow.add_edge(\"script_parser\", \"windows_crontab_translator\")\n",
    "workflow.add_edge(\"windows_crontab_translator\", \"run_crontab_command\")\n",
    "workflow.add_edge(\"run_crontab_command\", END)\n",
    "workflow.set_entry_point(\"time_extractor\")\n",
    "graph = workflow.compile()"
   ]
  },
  {
   "cell_type": "code",
   "execution_count": 10,
   "metadata": {},
   "outputs": [
    {
     "name": "stdout",
     "output_type": "stream",
     "text": [
      "[DEBUG] Entering time_extractor node...\n",
      "[DEBUG] time_extractor finished. LLM Output: '2025-01-18 13:52 CET'\n",
      "[DEBUG] time_extractor duration: 1.02 seconds\n",
      "\n",
      "[DEBUG] Entering script_parser node...\n",
      "[DEBUG] script_parser finished. Structured LLM Output: script_name='alert_script' script_args=['--run-in', '2', 'minutes']\n",
      "[DEBUG] script_parser duration: 0.80 seconds\n",
      "\n",
      "[DEBUG] Entering windows_crontab_translator node...\n",
      "[DEBUG] windows_crontab_translator finished. LLM Output: 'schtasks /create /TN \"alert_script\" /SC once /ST 13:52 /SD 01/18/2025 /TR \"C:\\\\scripts\\\\alert_script.bat --run-in 2 minutes\" /f'\n",
      "[DEBUG] Final command after date fix: schtasks /create /TN \"alert_script_20250118_135043\" /SC once /ST 13:52 /SD 18.01.2025 /TR \"c:\\Users\\User\\Desktop\\ChatGPTTask\\scripts\\alert_script.bat --run-in 2 minutes\" /f\n",
      "[DEBUG] windows_crontab_translator duration: 2.19 seconds\n",
      "\n",
      "[DEBUG] Entering run_crontab_command node...\n",
      "[DEBUG] Command to be run: schtasks /create /TN \"alert_script_20250118_135043\" /SC once /ST 13:52 /SD 18.01.2025 /TR \"c:\\Users\\User\\Desktop\\ChatGPTTask\\scripts\\alert_script.bat --run-in 2 minutes\" /f\n",
      "[DEBUG] run_crontab_command finished. Output: Scheduled with command: schtasks /create /TN \"alert_script_20250118_135043\" /SC once /ST 13:52 /SD 18.01.2025 /TR \"c:\\Users\\User\\Desktop\\ChatGPTTask\\scripts\\alert_script.bat --run-in 2 minutes\" /f\n",
      "[DEBUG] run_crontab_command duration: 0.06 seconds\n",
      "\n"
     ]
    },
    {
     "data": {
      "text/plain": [
       "{'messages': [HumanMessage(content='Hey, please run the alert in 2 minutes from now', additional_kwargs={}, response_metadata={}, id='276459da-d7c5-4e55-86a0-2151f0bf3a1c'),\n",
       "  AIMessage(content='Scheduled with command: schtasks /create /TN \"alert_script_20250118_135043\" /SC once /ST 13:52 /SD 18.01.2025 /TR \"c:\\\\Users\\\\User\\\\Desktop\\\\ChatGPTTask\\\\scripts\\\\alert_script.bat --run-in 2 minutes\" /f', additional_kwargs={}, response_metadata={}, id='edb341ce-5d9e-4a1b-bc7e-0a3c2801441b')],\n",
       " 'extracted_time': '2025-01-18 13:52 CET',\n",
       " 'script_name': 'alert_script',\n",
       " 'script_args': ['--run-in', '2', 'minutes'],\n",
       " 'schtasks_command': 'schtasks /create /TN \"alert_script_20250118_135043\" /SC once /ST 13:52 /SD 18.01.2025 /TR \"c:\\\\Users\\\\User\\\\Desktop\\\\ChatGPTTask\\\\scripts\\\\alert_script.bat --run-in 2 minutes\" /f',\n",
       " 'result': 'Scheduled with command: schtasks /create /TN \"alert_script_20250118_135043\" /SC once /ST 13:52 /SD 18.01.2025 /TR \"c:\\\\Users\\\\User\\\\Desktop\\\\ChatGPTTask\\\\scripts\\\\alert_script.bat --run-in 2 minutes\" /f'}"
      ]
     },
     "execution_count": 10,
     "metadata": {},
     "output_type": "execute_result"
    }
   ],
   "source": [
    "user_input = \"Hey, please run the alert in 2 minutes from now\"\n",
    "input_data = {\"messages\": [HumanMessage(content=user_input)]}\n",
    "graph.invoke(input=input_data)"
   ]
  }
 ],
 "metadata": {
  "kernelspec": {
   "display_name": ".venv",
   "language": "python",
   "name": "python3"
  },
  "language_info": {
   "codemirror_mode": {
    "name": "ipython",
    "version": 3
   },
   "file_extension": ".py",
   "mimetype": "text/x-python",
   "name": "python",
   "nbconvert_exporter": "python",
   "pygments_lexer": "ipython3",
   "version": "3.11.0"
  }
 },
 "nbformat": 4,
 "nbformat_minor": 2
}
